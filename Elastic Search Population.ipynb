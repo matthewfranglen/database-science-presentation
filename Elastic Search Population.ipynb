{
 "cells": [
  {
   "cell_type": "markdown",
   "metadata": {},
   "source": [
    "# Elastic Search Population"
   ]
  },
  {
   "cell_type": "code",
   "execution_count": null,
   "metadata": {
    "collapsed": true
   },
   "outputs": [],
   "source": [
    "ES_HOST = 'localhost'\n",
    "ES_PORT = 9200\n",
    "DATA_FILE = 'data/big_author_data.p'"
   ]
  },
  {
   "cell_type": "markdown",
   "metadata": {},
   "source": [
    "To use elastic search we must populate it. Loading the author data and writing it is relatively trivial in python.\n",
    "\n",
    "You can read about the [simple elastic search client](https://elasticsearch-py.readthedocs.io/en/master/)."
   ]
  },
  {
   "cell_type": "code",
   "execution_count": null,
   "metadata": {
    "collapsed": true
   },
   "outputs": [],
   "source": [
    "import pickle\n",
    "\n",
    "with open(DATA_FILE, 'rb') as handle:\n",
    "    author_data = pickle.load(handle)"
   ]
  },
  {
   "cell_type": "code",
   "execution_count": null,
   "metadata": {
    "collapsed": true
   },
   "outputs": [],
   "source": [
    "es_records = (\n",
    "    {\n",
    "        **entry,\n",
    "        '_id': entry['id'],\n",
    "        '_index': 'documents',\n",
    "        '_type': 'document'\n",
    "    }\n",
    "    for entry in author_data\n",
    ")"
   ]
  },
  {
   "cell_type": "markdown",
   "metadata": {},
   "source": [
    "The next step will take some time to execute."
   ]
  },
  {
   "cell_type": "code",
   "execution_count": null,
   "metadata": {},
   "outputs": [],
   "source": [
    "from collections import deque\n",
    "from elasticsearch import Elasticsearch\n",
    "from elasticsearch.helpers import parallel_bulk\n",
    "\n",
    "client = Elasticsearch([f'{ES_HOST}:{ES_PORT}'], sniff_on_start=True)\n",
    "\n",
    "# parallel_bulk returns a generator which must be consumed\n",
    "# deque is used to do that\n",
    "deque(parallel_bulk(client, es_records), maxlen=0)"
   ]
  },
  {
   "cell_type": "markdown",
   "metadata": {},
   "source": [
    "To validate that this has worked we can ask for the number of documents in the index."
   ]
  },
  {
   "cell_type": "code",
   "execution_count": null,
   "metadata": {},
   "outputs": [],
   "source": [
    "import requests\n",
    "\n",
    "requests.get(f'http://{ES_HOST}:{ES_PORT}/documents/document/_search', params={'size': 0}).json()"
   ]
  },
  {
   "cell_type": "code",
   "execution_count": null,
   "metadata": {
    "collapsed": true
   },
   "outputs": [],
   "source": []
  }
 ],
 "metadata": {
  "kernelspec": {
   "display_name": "Python 3",
   "language": "python",
   "name": "python3"
  },
  "language_info": {
   "codemirror_mode": {
    "name": "ipython",
    "version": 3
   },
   "file_extension": ".py",
   "mimetype": "text/x-python",
   "name": "python",
   "nbconvert_exporter": "python",
   "pygments_lexer": "ipython3",
   "version": "3.6.2"
  }
 },
 "nbformat": 4,
 "nbformat_minor": 2
}
