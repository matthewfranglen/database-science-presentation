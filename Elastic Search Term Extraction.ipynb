{
 "cells": [
  {
   "cell_type": "markdown",
   "metadata": {},
   "source": [
    "# Elastic Search Term Extraction"
   ]
  },
  {
   "cell_type": "code",
   "execution_count": null,
   "metadata": {
    "collapsed": true
   },
   "outputs": [],
   "source": [
    "ES_HOST = 'localhost'\n",
    "ES_PORT = 9200"
   ]
  },
  {
   "cell_type": "markdown",
   "metadata": {},
   "source": [
    "To get the term information we must make a request using the document ids. So the first thing is to get all the ids for the documents.\n",
    "\n",
    "Doing this by paginating through the results would be too time consuming. It's better to use [a script to create a custom aggregation](https://www.elastic.co/guide/en/elasticsearch/reference/current/search-aggregations-metrics-scripted-metric-aggregation.html). This transforms each document into it's id and provides that list:\n",
    "\n",
    "You can read [more about scripting](https://www.elastic.co/guide/en/elasticsearch/reference/current/modules-scripting.html)."
   ]
  },
  {
   "cell_type": "code",
   "execution_count": null,
   "metadata": {
    "collapsed": true
   },
   "outputs": [],
   "source": [
    "ES_SEARCH_QUERY = {\n",
    "    \"aggs\": {\n",
    "        \"pk\": {\n",
    "            \"scripted_metric\": {\n",
    "                \"init_script\": \"params._agg.pks = []\",\n",
    "                \"map_script\": \"params._agg.pks.add(doc.id.value.toString())\"\n",
    "            }\n",
    "        }\n",
    "    }\n",
    "}"
   ]
  },
  {
   "cell_type": "code",
   "execution_count": null,
   "metadata": {
    "collapsed": true
   },
   "outputs": [],
   "source": [
    "import requests\n",
    "\n",
    "aggregated_ids = requests.get(\n",
    "    f'http://{ES_HOST}:{ES_PORT}/documents/document/_search',\n",
    "    json=ES_SEARCH_QUERY\n",
    ").json()"
   ]
  },
  {
   "cell_type": "markdown",
   "metadata": {},
   "source": [
    "Now that we have the ids, we can ask for the terms.\n",
    "\n",
    "You can read about the [termvector query](https://www.elastic.co/guide/en/elasticsearch/reference/current/docs-termvectors.html) and about the [batch api for it](https://www.elastic.co/guide/en/elasticsearch/reference/current/docs-multi-termvectors.html)."
   ]
  },
  {
   "cell_type": "code",
   "execution_count": null,
   "metadata": {
    "collapsed": true
   },
   "outputs": [],
   "source": [
    "ES_MTERMVECTORS_QUERY = {\n",
    "    \"ids\": aggregated_ids[\"aggregations\"][\"pk\"][\"value\"][0][\"pks\"],\n",
    "    \"parameters\": {\n",
    "        \"fields\": [ \"fullText\" ],\n",
    "        \"offsets\": False,\n",
    "        \"positions\": False,\n",
    "        \"field_statistics\": False\n",
    "    }\n",
    "}"
   ]
  },
  {
   "cell_type": "code",
   "execution_count": null,
   "metadata": {
    "collapsed": true
   },
   "outputs": [],
   "source": [
    "document_terms = requests.get(\n",
    "    f'http://{ES_HOST}:{ES_PORT}/documents/document/_mtermvectors',\n",
    "    json=ES_MTERMVECTORS_QUERY\n",
    ").json()"
   ]
  },
  {
   "cell_type": "markdown",
   "metadata": {},
   "source": [
    "These terms are per document (tweet) so to get the overall frequencies we need to aggregate them."
   ]
  },
  {
   "cell_type": "code",
   "execution_count": null,
   "metadata": {
    "collapsed": true
   },
   "outputs": [],
   "source": [
    "from collections import defaultdict\n",
    "\n",
    "term_frequencies = defaultdict(int)\n",
    "\n",
    "for key, frequency in (\n",
    "        (key, value['term_freq'])\n",
    "        for doc in document_terms['docs']\n",
    "        for key, value in doc['term_vectors']['fullText']['terms'].items()\n",
    "):\n",
    "    term_frequencies[key] += frequency"
   ]
  },
  {
   "cell_type": "code",
   "execution_count": null,
   "metadata": {},
   "outputs": [],
   "source": [
    "sorted(term_frequencies.items(), key=lambda term: term[1], reverse=True)[:10]"
   ]
  },
  {
   "cell_type": "code",
   "execution_count": null,
   "metadata": {
    "collapsed": true
   },
   "outputs": [],
   "source": []
  }
 ],
 "metadata": {
  "kernelspec": {
   "display_name": "Python 3",
   "language": "python",
   "name": "python3"
  },
  "language_info": {
   "codemirror_mode": {
    "name": "ipython",
    "version": 3
   },
   "file_extension": ".py",
   "mimetype": "text/x-python",
   "name": "python",
   "nbconvert_exporter": "python",
   "pygments_lexer": "ipython3",
   "version": "3.6.2"
  }
 },
 "nbformat": 4,
 "nbformat_minor": 2
}
