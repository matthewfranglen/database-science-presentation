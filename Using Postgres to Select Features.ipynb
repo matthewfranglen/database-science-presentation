{
 "cells": [
  {
   "cell_type": "markdown",
   "metadata": {},
   "source": [
    "# Using Postgres to Select Features"
   ]
  },
  {
   "cell_type": "code",
   "execution_count": null,
   "metadata": {
    "collapsed": true
   },
   "outputs": [],
   "source": [
    "PG_HOST = 'localhost'\n",
    "PG_PORT = 5432\n",
    "DATA_FILE = 'data/big_author_data.p'"
   ]
  },
  {
   "cell_type": "markdown",
   "metadata": {},
   "source": [
    "The objective is to predict those that tweet again. To achieve this:\n",
    "\n",
    " * Take the first tweet of every unique author\n",
    " * Split them into those that tweet again and those that don't\n",
    " * Split them again into 3 groups"
   ]
  },
  {
   "cell_type": "markdown",
   "metadata": {},
   "source": [
    "## Create Data Sets"
   ]
  },
  {
   "cell_type": "code",
   "execution_count": null,
   "metadata": {
    "collapsed": true
   },
   "outputs": [],
   "source": [
    "import pickle\n",
    "\n",
    "with open(DATA_FILE, 'rb') as handle:\n",
    "    author_data = pickle.load(handle)"
   ]
  },
  {
   "cell_type": "code",
   "execution_count": null,
   "metadata": {
    "collapsed": true
   },
   "outputs": [],
   "source": [
    "from collections import defaultdict\n",
    "\n",
    "docs_by_author = defaultdict(list)\n",
    "\n",
    "for doc in author_data:\n",
    "    docs_by_author[doc['author']].append(doc)\n",
    "\n",
    "for docs in docs_by_author.values():\n",
    "    docs.sort(key=lambda doc: doc['date'])"
   ]
  },
  {
   "cell_type": "code",
   "execution_count": null,
   "metadata": {
    "collapsed": true
   },
   "outputs": [],
   "source": [
    "repeat_authors = {\n",
    "    author: [docs[0]]\n",
    "    for author, docs in docs_by_author.items()\n",
    "    if len(docs) > 1\n",
    "}\n",
    "one_shot_authors = {\n",
    "    author: [docs[0]]\n",
    "    for author, docs in docs_by_author.items()\n",
    "    if len(docs) == 1\n",
    "}"
   ]
  },
  {
   "cell_type": "code",
   "execution_count": null,
   "metadata": {},
   "outputs": [],
   "source": [
    "print(f'Repeat Authors: {len(repeat_authors)}')\n",
    "print(f'One Shot Authors: {len(one_shot_authors)}')\n",
    "print(f'{100 * len(repeat_authors) / len(author_data)}% Repeat Authors')"
   ]
  },
  {
   "cell_type": "markdown",
   "metadata": {},
   "source": [
    "We now divide the different sets of authors into three parts. We can then combine those to make three separate data sets, each of which has a representative number of repeat authors in it."
   ]
  },
  {
   "cell_type": "code",
   "execution_count": null,
   "metadata": {
    "collapsed": true
   },
   "outputs": [],
   "source": [
    "def to_sets(repeaters, one_shotters):\n",
    "    return [\n",
    "        {\n",
    "            'repeat authors': r,\n",
    "            'one shot authors': o\n",
    "        }\n",
    "        for r, o in zip(to_threes(repeaters), to_threes(one_shotters))\n",
    "    ]\n",
    "\n",
    "def to_threes(data):\n",
    "    data_items = list(data.items())\n",
    "    step = len(data) // 3\n",
    "    return [\n",
    "        to_dict(collection)\n",
    "        for collection in [\n",
    "            data_items[:step], data_items[step:step * 2], data_items[step * 2:]\n",
    "        ]\n",
    "    ]\n",
    "\n",
    "def to_dict(items):\n",
    "    return {key: value for key, value in items}\n",
    "\n",
    "investigation, testing, validation = to_sets(repeat_authors, one_shot_authors)"
   ]
  },
  {
   "cell_type": "markdown",
   "metadata": {},
   "source": [
    "A quick way to validate that we have not made an error with the split is to check that we still have 94,277 repeat authors."
   ]
  },
  {
   "cell_type": "code",
   "execution_count": null,
   "metadata": {},
   "outputs": [],
   "source": [
    "len(investigation['repeat authors']) + len(testing['repeat authors']) + len(validation['repeat authors'])"
   ]
  },
  {
   "cell_type": "markdown",
   "metadata": {},
   "source": [
    "## Populate Postgres with the Investigation Data Set"
   ]
  },
  {
   "cell_type": "markdown",
   "metadata": {},
   "source": [
    "Now we need to insert this data into postgres. To do this we need to have a table!\n",
    "\n",
    "**This is a terrible way to make a table. If you were doing this for reals you would copy the existing database table.**"
   ]
  },
  {
   "cell_type": "code",
   "execution_count": null,
   "metadata": {
    "collapsed": true
   },
   "outputs": [],
   "source": [
    "field_types = {}\n",
    "\n",
    "for doc_types in [\n",
    "    {\n",
    "        field: type(value)\n",
    "        for field, value in doc.items()\n",
    "        if value is not None\n",
    "    }\n",
    "    for doc in author_data\n",
    "]:\n",
    "    for field, field_type in doc_types.items():\n",
    "        if field not in field_types:\n",
    "            field_types[field] = field_type\n",
    "        elif field_types[field] is not field_type:\n",
    "            raise f'Incompatible field types detected for {field}: {field_types[field]} is not {field_type}'"
   ]
  },
  {
   "cell_type": "code",
   "execution_count": null,
   "metadata": {
    "collapsed": true
   },
   "outputs": [],
   "source": [
    "field_mapping = {\n",
    "    str: 'TEXT',\n",
    "    int: 'BIGINT',\n",
    "    float: 'NUMERIC',\n",
    "    bool: 'BOOLEAN'\n",
    "}\n",
    "CREATE_TABLE_STATEMENT = f\"\"\"\n",
    "CREATE TABLE documents (\n",
    "    {\n",
    "        \", \".join(\n",
    "            f'\"{field}\" {field_mapping[field_type]}'\n",
    "            for field, field_type in field_types.items()\n",
    "            if field_type in field_mapping\n",
    "        )\n",
    "    }\n",
    ");\n",
    "\"\"\""
   ]
  },
  {
   "cell_type": "code",
   "execution_count": null,
   "metadata": {
    "collapsed": true
   },
   "outputs": [],
   "source": [
    "from psycopg2 import connect\n",
    "\n",
    "with connect(host=PG_HOST, port=PG_PORT, database='postgres', user='postgres') as connection:\n",
    "    with connection.cursor() as cursor:\n",
    "        cursor.execute(CREATE_TABLE_STATEMENT)"
   ]
  },
  {
   "cell_type": "markdown",
   "metadata": {},
   "source": [
    "That is a terrible way to make a table. It did drop every column which never has a value though.\n",
    "\n",
    "Next to insert the investigation data. This will take a little while to complete."
   ]
  },
  {
   "cell_type": "code",
   "execution_count": null,
   "metadata": {
    "collapsed": true
   },
   "outputs": [],
   "source": [
    "keys = [\n",
    "    field for field, field_type in field_types.items()\n",
    "    if field_type in field_mapping\n",
    "]\n",
    "\n",
    "INSERT_STATEMENT = f\"\"\"INSERT INTO documents ({\", \".join(f'\"{key}\"' for key in keys)}) VALUES %s\"\"\""
   ]
  },
  {
   "cell_type": "code",
   "execution_count": null,
   "metadata": {
    "collapsed": true
   },
   "outputs": [],
   "source": [
    "from psycopg2.extras import execute_values\n",
    "\n",
    "def to_ordered_values(docs_list):\n",
    "    return [\n",
    "        [\n",
    "            doc[key] if key in doc else None\n",
    "            for key in keys\n",
    "        ]\n",
    "        for docs in docs_list\n",
    "        for doc in docs\n",
    "    ]\n",
    "\n",
    "with connect(host=PG_HOST, port=PG_PORT, database='postgres', user='postgres') as connection:\n",
    "    with connection.cursor() as cursor:\n",
    "        execute_values(cursor, INSERT_STATEMENT, to_ordered_values(investigation['repeat authors'].values()))\n",
    "        execute_values(cursor, INSERT_STATEMENT, to_ordered_values(investigation['one shot authors'].values()))"
   ]
  },
  {
   "cell_type": "code",
   "execution_count": null,
   "metadata": {
    "collapsed": true
   },
   "outputs": [],
   "source": [
    "with connect(host=PG_HOST, port=PG_PORT, database='postgres', user='postgres') as connection:\n",
    "    with connection.cursor() as cursor:\n",
    "        cursor.execute('ANALYZE documents;')"
   ]
  },
  {
   "cell_type": "markdown",
   "metadata": {},
   "source": [
    "## Extract Column Statistics"
   ]
  },
  {
   "cell_type": "markdown",
   "metadata": {},
   "source": [
    "Now we can extract the statistics from the table!"
   ]
  },
  {
   "cell_type": "code",
   "execution_count": null,
   "metadata": {
    "collapsed": true
   },
   "outputs": [],
   "source": [
    "STATISTICS_STATEMENT = \"\"\"\n",
    "SELECT\n",
    "    attname AS column,\n",
    "    n_distinct,\n",
    "    most_common_vals,\n",
    "    most_common_freqs,\n",
    "    histogram_bounds,\n",
    "    correlation\n",
    "FROM pg_stats\n",
    "WHERE tablename = 'documents';\n",
    "\"\"\"\n",
    "\n",
    "with connect(host=PG_HOST, port=PG_PORT, database='postgres', user='postgres') as connection:\n",
    "    with connection.cursor() as cursor:\n",
    "        cursor.execute(STATISTICS_STATEMENT)\n",
    "        statistics = cursor.fetchall()"
   ]
  },
  {
   "cell_type": "code",
   "execution_count": null,
   "metadata": {
    "collapsed": true
   },
   "outputs": [],
   "source": [
    "interesting_columns = [\n",
    "    column\n",
    "    for column, distinct, *_\n",
    "    in statistics\n",
    "    if distinct > 1 and distinct < 100\n",
    "]"
   ]
  },
  {
   "cell_type": "code",
   "execution_count": null,
   "metadata": {},
   "outputs": [],
   "source": [
    "interesting_columns"
   ]
  },
  {
   "cell_type": "markdown",
   "metadata": {},
   "source": [
    "## Find the Most Predictive Columns"
   ]
  },
  {
   "cell_type": "markdown",
   "metadata": {},
   "source": [
    "Now we need to determine the degree to which the specific values of the columns identify repeat authors or not.\n",
    "\n",
    "How can we measure the degree to which a feature predicts the repeat authors?"
   ]
  },
  {
   "attachments": {
    "Precisionrecall.svg": {
     "image/svg+xml": [
      "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"
     ]
    }
   },
   "cell_type": "markdown",
   "metadata": {},
   "source": [
    "![Precisionrecall.svg](attachment:Precisionrecall.svg)"
   ]
  },
  {
   "cell_type": "markdown",
   "metadata": {},
   "source": [
    "By Walber - Own work, [CC BY-SA 4.0](https://commons.wikimedia.org/w/index.php?curid=36926283)"
   ]
  },
  {
   "cell_type": "markdown",
   "metadata": {},
   "source": [
    "If we determine precision and recall for every possible value then we can rank them to find significant values.\n",
    "\n",
    "This only handles single values. It would be possible to create sets of values by extending this technique.\n",
    "\n",
    "At this point we switch to the testing data set."
   ]
  },
  {
   "cell_type": "markdown",
   "metadata": {},
   "source": [
    "### Miscellaneous Data Transforms"
   ]
  },
  {
   "cell_type": "markdown",
   "metadata": {},
   "source": [
    "Need to make it a bit easier to work over the data we have collected. This is just a set of transforms to make extracting the required information easier.\n",
    "\n",
    "Don't have to worry too much about the specific operations performed here 😃"
   ]
  },
  {
   "cell_type": "code",
   "execution_count": null,
   "metadata": {
    "collapsed": true
   },
   "outputs": [],
   "source": [
    "values_by_field = defaultdict(set)\n",
    "\n",
    "for doc in [\n",
    "        doc\n",
    "        for docs_by_author in testing.values()\n",
    "        for docs in docs_by_author.values()\n",
    "        for doc in docs\n",
    "]:\n",
    "    for field in interesting_columns:\n",
    "        values_by_field[field].add(doc[field])\n"
   ]
  },
  {
   "cell_type": "code",
   "execution_count": null,
   "metadata": {
    "collapsed": true
   },
   "outputs": [],
   "source": [
    "authors_by_field = defaultdict(lambda: defaultdict(lambda: defaultdict(set)))\n",
    "\n",
    "for author_type in testing.keys():\n",
    "    for author, doc in ((author, doc) for author, docs in testing[author_type].items() for doc in docs):\n",
    "        for field, value in [(field, doc[field]) for field in interesting_columns]:\n",
    "            authors_by_field[field][value][author_type].add(author)\n",
    "\n",
    "counts_by_field = {\n",
    "    field: {\n",
    "        value: {\n",
    "            author_type: len(authors)\n",
    "            for author_type, authors in value_values.items()\n",
    "        }\n",
    "        for value, value_values in field_values.items()\n",
    "    }\n",
    "    for field, field_values in authors_by_field.items()\n",
    "}"
   ]
  },
  {
   "cell_type": "markdown",
   "metadata": {},
   "source": [
    "### Calculate Precision and Recall"
   ]
  },
  {
   "cell_type": "code",
   "execution_count": null,
   "metadata": {
    "collapsed": true
   },
   "outputs": [],
   "source": [
    "total_population_by_type = {\n",
    "    author_type: len(testing[author_type])\n",
    "    for author_type in testing.keys()\n",
    "}\n",
    "\n",
    "def calculate_precision(count, field, value):\n",
    "    return count / sum(count for count in counts_by_field[field][value].values())\n",
    "\n",
    "def calculate_recall(count, author_type):\n",
    "    return count / total_population_by_type[author_type]\n",
    "\n",
    "quality = {\n",
    "    field: {\n",
    "        value: {\n",
    "            author_type: {\n",
    "                'precision': calculate_precision(count, field, value),\n",
    "                'recall': calculate_recall(count, author_type)\n",
    "            }\n",
    "            for author_type, count in value_values.items()\n",
    "        }\n",
    "        for value, value_values in field_values.items()\n",
    "    }\n",
    "    for field, field_values in counts_by_field.items()\n",
    "}"
   ]
  },
  {
   "cell_type": "markdown",
   "metadata": {},
   "source": [
    "This final step flattens the results out to make them easier to sort."
   ]
  },
  {
   "cell_type": "code",
   "execution_count": null,
   "metadata": {
    "collapsed": true
   },
   "outputs": [],
   "source": [
    "flat_quality = [\n",
    "    {\n",
    "        'field': field,\n",
    "        'value': value,\n",
    "        'precision': quality[field][value]['repeat authors']['precision'],\n",
    "        'recall': quality[field][value]['repeat authors']['recall']\n",
    "    }\n",
    "    for field, field_values in quality.items()\n",
    "    for value in field_values.keys()\n",
    "    if 'repeat authors' in quality[field][value]\n",
    "]"
   ]
  },
  {
   "cell_type": "markdown",
   "metadata": {},
   "source": [
    "### Rank Columns & Values By Predictive Ability"
   ]
  },
  {
   "cell_type": "markdown",
   "metadata": {},
   "source": [
    "The aim is to predict those that tweet again. So lets look for the best field values for that. Best is highly subjective!\n",
    "\n",
    "It is very easy to produce 100% recall OR 100% precision.\n",
    "\n",
    " * 100% recall = select every result\n",
    " * 100% precision = select one correctly classified result\n",
    "\n",
    "One approach to counter this is to multiply the precision by the recall. That way a high precision and low recall will be punished compared to something that is average at both."
   ]
  },
  {
   "cell_type": "code",
   "execution_count": null,
   "metadata": {},
   "outputs": [],
   "source": [
    "sorted(flat_quality, key=lambda entry: entry['precision'] * entry['recall'], reverse=True)[:10]"
   ]
  },
  {
   "cell_type": "markdown",
   "metadata": {},
   "source": [
    "We can also see if thresholding the recall at an appropriate level (10% in this case) and then ranking by precision produces anything that is much better, over a smaller set of values."
   ]
  },
  {
   "cell_type": "code",
   "execution_count": null,
   "metadata": {},
   "outputs": [],
   "source": [
    "sorted(flat_quality, key=lambda entry: entry['precision'] if entry['recall'] > 0.1 else 0, reverse=True)[:10]"
   ]
  },
  {
   "cell_type": "markdown",
   "metadata": {},
   "source": [
    "## Testing Results"
   ]
  },
  {
   "cell_type": "markdown",
   "metadata": {},
   "source": [
    "So if we take the best column/value pairs from the two approaches above, how do they compare when applied to the validation data set?"
   ]
  },
  {
   "cell_type": "code",
   "execution_count": null,
   "metadata": {},
   "outputs": [],
   "source": [
    "testing_not_verified = quality['twitterVerified'][False]['repeat authors']\n",
    "print(f'Not Verified: {int(testing_not_verified[\"precision\"] * 100)}% precision {int(testing_not_verified[\"recall\"] * 100)}% recall')\n",
    "\n",
    "testing_organisation = quality['accountType']['organisational']['repeat authors']\n",
    "print(f'Organisations: {int(testing_organisation[\"precision\"] * 100)}% precision {int(testing_organisation[\"recall\"] * 100)}% recall')"
   ]
  },
  {
   "cell_type": "markdown",
   "metadata": {},
   "source": [
    "Remember that 18.8554% of authors are repeat authors, so this does provide some improvement over a weighted random guess."
   ]
  },
  {
   "cell_type": "markdown",
   "metadata": {},
   "source": [
    "## Validation"
   ]
  },
  {
   "cell_type": "markdown",
   "metadata": {},
   "source": [
    "Now that we have selected some promising features we can see how they fare against the validation data set."
   ]
  },
  {
   "cell_type": "code",
   "execution_count": null,
   "metadata": {
    "collapsed": true
   },
   "outputs": [],
   "source": [
    "validation_authors_by_field = defaultdict(lambda: defaultdict(lambda: defaultdict(set)))\n",
    "\n",
    "for author_type in validation.keys():\n",
    "    for author, doc in ((author, doc) for author, docs in validation[author_type].items() for doc in docs):\n",
    "        for field, value in [(field, doc[field]) for field in interesting_columns]:\n",
    "            validation_authors_by_field[field][value][author_type].add(author)\n",
    "\n",
    "validation_counts_by_field = {\n",
    "    field: {\n",
    "        value: {\n",
    "            author_type: len(authors)\n",
    "            for author_type, authors in value_values.items()\n",
    "        }\n",
    "        for value, value_values in field_values.items()\n",
    "    }\n",
    "    for field, field_values in validation_authors_by_field.items()\n",
    "}"
   ]
  },
  {
   "cell_type": "code",
   "execution_count": null,
   "metadata": {},
   "outputs": [],
   "source": [
    "not_verified = validation_counts_by_field[\"twitterVerified\"][False]\n",
    "organisation = validation_counts_by_field['accountType']['organisational']\n",
    "total_repeat_authors = len(validation['repeat authors'])\n",
    "\n",
    "not_verified_precision = not_verified['repeat authors'] / sum(count for count in not_verified.values())\n",
    "not_verified_recall = not_verified['repeat authors'] / total_repeat_authors\n",
    "\n",
    "organisation_precision = negative_sentiment['repeat authors'] / sum(count for count in organisation.values())\n",
    "organisation_recall = negative_sentiment['repeat authors'] / total_repeat_authors\n",
    "\n",
    "print(f'Not Verified: {int(not_verified_precision * 100)}% precision {int(not_verified_recall * 100)}% recall')\n",
    "print(f'Organisations: {int(organisation_precision * 100)}% precision {int(organisation_recall * 100)}% recall')"
   ]
  },
  {
   "cell_type": "markdown",
   "metadata": {},
   "source": [
    "During my testing the validation stage shows a slight loss for organisation account type and not twitter verified holds pretty steady."
   ]
  },
  {
   "cell_type": "markdown",
   "metadata": {
    "collapsed": true
   },
   "source": [
    "# Going Further"
   ]
  },
  {
   "cell_type": "markdown",
   "metadata": {},
   "source": [
    "The results of these single features are better than a random guess, which is good. They arn't great though as they still only provide a 1 in 3 chance of correctly classifying a document.\n",
    "\n",
    "Features can be combined to increase the predictive accuracy. If you treat the field and value as the set of matching documents then you can perform set operations (union, difference, intersection ...) to create different classifiers.\n",
    "\n",
    "These set operations map well to boolean operations - a union would be an OR, a difference is a NOT, an intersection is an AND."
   ]
  },
  {
   "cell_type": "markdown",
   "metadata": {},
   "source": [
    "The techniques outlined here can be applied to the terms that were extracted by elastic search as well, so it would be possible to create something which very much resembled a query."
   ]
  },
  {
   "cell_type": "markdown",
   "metadata": {},
   "source": [
    "Another way to combine the different values would be to accept higher cardinality fields and then perform range operations over them. By reviewing the histogram it would be possible to identify the \"lumpy\" areas of the distribution which would then be ranges of values that select a lot of elements.\n",
    "\n",
    "You could also work backwards from the documents themselves to try to determine a range within which most interesting documents lie."
   ]
  },
  {
   "cell_type": "code",
   "execution_count": null,
   "metadata": {
    "collapsed": true
   },
   "outputs": [],
   "source": []
  }
 ],
 "metadata": {
  "kernelspec": {
   "display_name": "Python 3",
   "language": "python",
   "name": "python3"
  },
  "language_info": {
   "codemirror_mode": {
    "name": "ipython",
    "version": 3
   },
   "file_extension": ".py",
   "mimetype": "text/x-python",
   "name": "python",
   "nbconvert_exporter": "python",
   "pygments_lexer": "ipython3",
   "version": "3.6.2"
  }
 },
 "nbformat": 4,
 "nbformat_minor": 2
}
